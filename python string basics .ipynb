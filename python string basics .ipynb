{
 "cells": [
  {
   "cell_type": "code",
   "execution_count": 69,
   "id": "3e0e54fe",
   "metadata": {},
   "outputs": [],
   "source": [
    "fruits = [\"apple\",\"abanana\",\"chery\", \"dragon\"]\n"
   ]
  },
  {
   "cell_type": "code",
   "execution_count": 70,
   "id": "d33bd86b",
   "metadata": {},
   "outputs": [
    {
     "data": {
      "text/plain": [
       "['abanana', 'chery', 'dragon']"
      ]
     },
     "execution_count": 70,
     "metadata": {},
     "output_type": "execute_result"
    }
   ],
   "source": [
    "###arbitary objects\n",
    "fruits[1:4]\n",
    "\n"
   ]
  },
  {
   "cell_type": "code",
   "execution_count": 71,
   "id": "386e6727",
   "metadata": {},
   "outputs": [
    {
     "data": {
      "text/plain": [
       "['apple', 'abanana', 'chery']"
      ]
     },
     "execution_count": 71,
     "metadata": {},
     "output_type": "execute_result"
    }
   ],
   "source": [
    "fruits[:3]"
   ]
  },
  {
   "cell_type": "code",
   "execution_count": 72,
   "id": "ef92128e",
   "metadata": {},
   "outputs": [
    {
     "data": {
      "text/plain": [
       "['apple', 'abanana', 'chery']"
      ]
     },
     "execution_count": 72,
     "metadata": {},
     "output_type": "execute_result"
    }
   ],
   "source": [
    "fruits[0:3]"
   ]
  },
  {
   "cell_type": "code",
   "execution_count": 73,
   "id": "de9f3c17",
   "metadata": {},
   "outputs": [
    {
     "data": {
      "text/plain": [
       "['apple', 'abanana', 'chery']"
      ]
     },
     "execution_count": 73,
     "metadata": {},
     "output_type": "execute_result"
    }
   ],
   "source": [
    "start=0\n",
    "stop=3\n",
    "step=1\n",
    "fruits[start:stop:step]"
   ]
  },
  {
   "cell_type": "code",
   "execution_count": 74,
   "id": "7c978c73",
   "metadata": {},
   "outputs": [
    {
     "data": {
      "text/plain": [
       "['apple', 'abanana', 'chery', 'dragon', 'angur']"
      ]
     },
     "execution_count": 74,
     "metadata": {},
     "output_type": "execute_result"
    }
   ],
   "source": [
    "fruits + [\"angur\"]"
   ]
  },
  {
   "cell_type": "code",
   "execution_count": 75,
   "id": "75a29c29",
   "metadata": {},
   "outputs": [
    {
     "name": "stdout",
     "output_type": "stream",
     "text": [
      "fruits\n"
     ]
    }
   ],
   "source": [
    "print(\"fruits\")"
   ]
  },
  {
   "cell_type": "code",
   "execution_count": 76,
   "id": "e46d160d",
   "metadata": {},
   "outputs": [
    {
     "name": "stdout",
     "output_type": "stream",
     "text": [
      "['apple', 'abanana', 'chery', 'dragon']\n"
     ]
    }
   ],
   "source": [
    "print(fruits)"
   ]
  },
  {
   "cell_type": "code",
   "execution_count": 77,
   "id": "b19cc9a5",
   "metadata": {},
   "outputs": [
    {
     "data": {
      "text/plain": [
       "'chery'"
      ]
     },
     "execution_count": 77,
     "metadata": {},
     "output_type": "execute_result"
    }
   ],
   "source": [
    "fruits[-2]"
   ]
  },
  {
   "cell_type": "code",
   "execution_count": 78,
   "id": "6355fef8",
   "metadata": {},
   "outputs": [
    {
     "data": {
      "text/plain": [
       "4"
      ]
     },
     "execution_count": 78,
     "metadata": {},
     "output_type": "execute_result"
    }
   ],
   "source": [
    "len (fruits)"
   ]
  },
  {
   "cell_type": "code",
   "execution_count": 79,
   "id": "072aa672",
   "metadata": {},
   "outputs": [
    {
     "data": {
      "text/plain": [
       "'abanana'"
      ]
     },
     "execution_count": 79,
     "metadata": {},
     "output_type": "execute_result"
    }
   ],
   "source": [
    "min(fruits)"
   ]
  },
  {
   "cell_type": "code",
   "execution_count": 80,
   "id": "e6b50d58",
   "metadata": {},
   "outputs": [
    {
     "data": {
      "text/plain": [
       "'dragon'"
      ]
     },
     "execution_count": 80,
     "metadata": {},
     "output_type": "execute_result"
    }
   ],
   "source": [
    "max(fruits)"
   ]
  },
  {
   "cell_type": "code",
   "execution_count": 81,
   "id": "b70ca6f8",
   "metadata": {},
   "outputs": [
    {
     "data": {
      "text/plain": [
       "['dragon', 'chery', 'abanana', 'apple']"
      ]
     },
     "execution_count": 81,
     "metadata": {},
     "output_type": "execute_result"
    }
   ],
   "source": [
    "fruits[::-1]"
   ]
  },
  {
   "cell_type": "code",
   "execution_count": 82,
   "id": "8852647e",
   "metadata": {},
   "outputs": [],
   "source": [
    "fruits=[[\"apple\",\"pineapple\"],\"banana\",[\"cherry\",\"cherrry plum\"]]"
   ]
  },
  {
   "cell_type": "code",
   "execution_count": 83,
   "id": "d7ec7a8b",
   "metadata": {},
   "outputs": [
    {
     "data": {
      "text/plain": [
       "[['apple', 'pineapple'], 'banana', ['cherry', 'cherrry plum']]"
      ]
     },
     "execution_count": 83,
     "metadata": {},
     "output_type": "execute_result"
    }
   ],
   "source": [
    "fruits"
   ]
  },
  {
   "cell_type": "code",
   "execution_count": 84,
   "id": "83edebd6",
   "metadata": {},
   "outputs": [
    {
     "data": {
      "text/plain": [
       "['apple', 'pineapple']"
      ]
     },
     "execution_count": 84,
     "metadata": {},
     "output_type": "execute_result"
    }
   ],
   "source": [
    "fruits[0]"
   ]
  },
  {
   "cell_type": "code",
   "execution_count": 85,
   "id": "e09fd78a",
   "metadata": {},
   "outputs": [
    {
     "data": {
      "text/plain": [
       "['cherry', 'cherrry plum']"
      ]
     },
     "execution_count": 85,
     "metadata": {},
     "output_type": "execute_result"
    }
   ],
   "source": [
    "fruits[2]"
   ]
  },
  {
   "cell_type": "code",
   "execution_count": 86,
   "id": "bb28f562",
   "metadata": {},
   "outputs": [
    {
     "data": {
      "text/plain": [
       "'cherry'"
      ]
     },
     "execution_count": 86,
     "metadata": {},
     "output_type": "execute_result"
    }
   ],
   "source": [
    "fruits[2][0]"
   ]
  },
  {
   "cell_type": "code",
   "execution_count": 87,
   "id": "887c9f80",
   "metadata": {},
   "outputs": [
    {
     "data": {
      "text/plain": [
       "'pineapple'"
      ]
     },
     "execution_count": 87,
     "metadata": {},
     "output_type": "execute_result"
    }
   ],
   "source": [
    "fruits[0][1]"
   ]
  },
  {
   "cell_type": "code",
   "execution_count": 88,
   "id": "474aa539",
   "metadata": {},
   "outputs": [],
   "source": [
    "x = ['a', ['bb', ['ccc', 'ddd'], 'ee', 'ff'], 'g', ['hh', 'ii'], 'j']"
   ]
  },
  {
   "cell_type": "code",
   "execution_count": 89,
   "id": "68668374",
   "metadata": {},
   "outputs": [
    {
     "data": {
      "text/plain": [
       "['ccc', 'ddd']"
      ]
     },
     "execution_count": 89,
     "metadata": {},
     "output_type": "execute_result"
    }
   ],
   "source": [
    "x[1][1]"
   ]
  },
  {
   "cell_type": "code",
   "execution_count": 90,
   "id": "3866c9af",
   "metadata": {},
   "outputs": [
    {
     "data": {
      "text/plain": [
       "'ddd'"
      ]
     },
     "execution_count": 90,
     "metadata": {},
     "output_type": "execute_result"
    }
   ],
   "source": [
    "x[1][1][1]"
   ]
  },
  {
   "cell_type": "code",
   "execution_count": 91,
   "id": "e227d89e",
   "metadata": {},
   "outputs": [
    {
     "data": {
      "text/plain": [
       "[['apple', 'pineapple'], 'banana', ['cherry', 'cherrry plum']]"
      ]
     },
     "execution_count": 91,
     "metadata": {},
     "output_type": "execute_result"
    }
   ],
   "source": [
    "fruits"
   ]
  },
  {
   "cell_type": "code",
   "execution_count": 92,
   "id": "8c0e615d",
   "metadata": {},
   "outputs": [],
   "source": [
    "fruits[0]=\"mustang apple\""
   ]
  },
  {
   "cell_type": "code",
   "execution_count": 93,
   "id": "b3d3e737",
   "metadata": {},
   "outputs": [
    {
     "data": {
      "text/plain": [
       "['mustang apple', 'banana', ['cherry', 'cherrry plum']]"
      ]
     },
     "execution_count": 93,
     "metadata": {},
     "output_type": "execute_result"
    }
   ],
   "source": [
    "fruits"
   ]
  },
  {
   "cell_type": "code",
   "execution_count": 94,
   "id": "f1a57d99",
   "metadata": {},
   "outputs": [
    {
     "data": {
      "text/plain": [
       "'cherrry plum'"
      ]
     },
     "execution_count": 94,
     "metadata": {},
     "output_type": "execute_result"
    }
   ],
   "source": [
    "fruits[2][1]\n"
   ]
  },
  {
   "cell_type": "code",
   "execution_count": 95,
   "id": "32df47ff",
   "metadata": {},
   "outputs": [],
   "source": [
    "fruits[2][1]='kiwi'"
   ]
  },
  {
   "cell_type": "code",
   "execution_count": 96,
   "id": "a69bb64c",
   "metadata": {},
   "outputs": [
    {
     "data": {
      "text/plain": [
       "['mustang apple', 'banana', ['cherry', 'kiwi']]"
      ]
     },
     "execution_count": 96,
     "metadata": {},
     "output_type": "execute_result"
    }
   ],
   "source": [
    "fruits"
   ]
  },
  {
   "cell_type": "code",
   "execution_count": 97,
   "id": "0af183b6",
   "metadata": {},
   "outputs": [],
   "source": [
    "#append sample\n",
    "fruits.append('ABC') "
   ]
  },
  {
   "cell_type": "code",
   "execution_count": 98,
   "id": "afd2f53a",
   "metadata": {},
   "outputs": [
    {
     "data": {
      "text/plain": [
       "['mustang apple', 'banana', ['cherry', 'kiwi'], 'ABC']"
      ]
     },
     "execution_count": 98,
     "metadata": {},
     "output_type": "execute_result"
    }
   ],
   "source": [
    "fruits"
   ]
  },
  {
   "cell_type": "code",
   "execution_count": 99,
   "id": "656c354a",
   "metadata": {},
   "outputs": [],
   "source": [
    "#copy\n",
    "falful=fruits.copy()"
   ]
  },
  {
   "cell_type": "code",
   "execution_count": 100,
   "id": "4155cfbe",
   "metadata": {},
   "outputs": [
    {
     "data": {
      "text/plain": [
       "['mustang apple', 'banana', ['cherry', 'kiwi'], 'ABC']"
      ]
     },
     "execution_count": 100,
     "metadata": {},
     "output_type": "execute_result"
    }
   ],
   "source": [
    "falful"
   ]
  },
  {
   "cell_type": "code",
   "execution_count": 102,
   "id": "9c288532",
   "metadata": {},
   "outputs": [],
   "source": [
    "fruits.count?"
   ]
  },
  {
   "cell_type": "code",
   "execution_count": 104,
   "id": "275b16fd",
   "metadata": {},
   "outputs": [],
   "source": [
    "juiceitems  = [\"apple\",\"banan\",\"suntala \", \"mango\"]"
   ]
  },
  {
   "cell_type": "code",
   "execution_count": 106,
   "id": "413fbff0",
   "metadata": {},
   "outputs": [
    {
     "data": {
      "text/plain": [
       "['apple', 'banan', 'suntala ', 'mango']"
      ]
     },
     "execution_count": 106,
     "metadata": {},
     "output_type": "execute_result"
    }
   ],
   "source": [
    "juiceitems"
   ]
  },
  {
   "cell_type": "code",
   "execution_count": 107,
   "id": "4a367262",
   "metadata": {},
   "outputs": [],
   "source": [
    "fruits.extend(juiceitems)"
   ]
  },
  {
   "cell_type": "code",
   "execution_count": 108,
   "id": "9a670216",
   "metadata": {},
   "outputs": [
    {
     "data": {
      "text/plain": [
       "['mustang apple',\n",
       " 'banana',\n",
       " ['cherry', 'kiwi'],\n",
       " 'ABC',\n",
       " 'apple',\n",
       " 'banan',\n",
       " 'suntala ',\n",
       " 'mango']"
      ]
     },
     "execution_count": 108,
     "metadata": {},
     "output_type": "execute_result"
    }
   ],
   "source": [
    "fruits"
   ]
  },
  {
   "cell_type": "code",
   "execution_count": 109,
   "id": "0a873dd2",
   "metadata": {},
   "outputs": [],
   "source": [
    "vegetables=[\"cauli\",\"mula\"]"
   ]
  },
  {
   "cell_type": "code",
   "execution_count": 111,
   "id": "cf604825",
   "metadata": {},
   "outputs": [],
   "source": [
    "fruits.insert (0,vegetables)"
   ]
  },
  {
   "cell_type": "code",
   "execution_count": 112,
   "id": "6ea6b14d",
   "metadata": {},
   "outputs": [
    {
     "data": {
      "text/plain": [
       "[['cauli', 'mula'],\n",
       " 'mustang apple',\n",
       " 'banana',\n",
       " ['cherry', 'kiwi'],\n",
       " 'ABC',\n",
       " 'apple',\n",
       " 'banan',\n",
       " 'suntala ',\n",
       " 'mango']"
      ]
     },
     "execution_count": 112,
     "metadata": {},
     "output_type": "execute_result"
    }
   ],
   "source": [
    "fruits"
   ]
  },
  {
   "cell_type": "code",
   "execution_count": 113,
   "id": "e21388b5",
   "metadata": {},
   "outputs": [
    {
     "ename": "SyntaxError",
     "evalue": "invalid syntax (2484116588.py, line 1)",
     "output_type": "error",
     "traceback": [
      "\u001b[1;36m  File \u001b[1;32m\"C:\\Users\\ASUS\\AppData\\Local\\Temp\\ipykernel_16116\\2484116588.py\"\u001b[1;36m, line \u001b[1;32m1\u001b[0m\n\u001b[1;33m    dir fruits\u001b[0m\n\u001b[1;37m        ^\u001b[0m\n\u001b[1;31mSyntaxError\u001b[0m\u001b[1;31m:\u001b[0m invalid syntax\n"
     ]
    }
   ],
   "source": [
    "dir fruits #istake "
   ]
  },
  {
   "cell_type": "raw",
   "id": "a2503cd1",
   "metadata": {},
   "source": []
  },
  {
   "cell_type": "code",
   "execution_count": 114,
   "id": "b0564967",
   "metadata": {},
   "outputs": [
    {
     "data": {
      "text/plain": [
       "['__add__',\n",
       " '__class__',\n",
       " '__class_getitem__',\n",
       " '__contains__',\n",
       " '__delattr__',\n",
       " '__delitem__',\n",
       " '__dir__',\n",
       " '__doc__',\n",
       " '__eq__',\n",
       " '__format__',\n",
       " '__ge__',\n",
       " '__getattribute__',\n",
       " '__getitem__',\n",
       " '__gt__',\n",
       " '__hash__',\n",
       " '__iadd__',\n",
       " '__imul__',\n",
       " '__init__',\n",
       " '__init_subclass__',\n",
       " '__iter__',\n",
       " '__le__',\n",
       " '__len__',\n",
       " '__lt__',\n",
       " '__mul__',\n",
       " '__ne__',\n",
       " '__new__',\n",
       " '__reduce__',\n",
       " '__reduce_ex__',\n",
       " '__repr__',\n",
       " '__reversed__',\n",
       " '__rmul__',\n",
       " '__setattr__',\n",
       " '__setitem__',\n",
       " '__sizeof__',\n",
       " '__str__',\n",
       " '__subclasshook__',\n",
       " 'append',\n",
       " 'clear',\n",
       " 'copy',\n",
       " 'count',\n",
       " 'extend',\n",
       " 'index',\n",
       " 'insert',\n",
       " 'pop',\n",
       " 'remove',\n",
       " 'reverse',\n",
       " 'sort']"
      ]
     },
     "execution_count": 114,
     "metadata": {},
     "output_type": "execute_result"
    }
   ],
   "source": [
    "dir(fruits)"
   ]
  },
  {
   "cell_type": "code",
   "execution_count": 115,
   "id": "72175e2c",
   "metadata": {
    "scrolled": true
   },
   "outputs": [
    {
     "data": {
      "text/plain": [
       "[['cauli', 'mula'],\n",
       " 'mustang apple',\n",
       " 'banana',\n",
       " ['cherry', 'kiwi'],\n",
       " 'ABC',\n",
       " 'apple',\n",
       " 'banan',\n",
       " 'suntala ',\n",
       " 'mango']"
      ]
     },
     "execution_count": 115,
     "metadata": {},
     "output_type": "execute_result"
    }
   ],
   "source": [
    "fruits\n"
   ]
  },
  {
   "cell_type": "code",
   "execution_count": 122,
   "id": "7b2d419c",
   "metadata": {},
   "outputs": [],
   "source": [
    "data  = [\"cauli\", \"mula\", \"mustang apple \"]"
   ]
  },
  {
   "cell_type": "code",
   "execution_count": 123,
   "id": "5e3e7dc3",
   "metadata": {},
   "outputs": [
    {
     "data": {
      "text/plain": [
       "1"
      ]
     },
     "execution_count": 123,
     "metadata": {},
     "output_type": "execute_result"
    }
   ],
   "source": [
    "data.count(\"cauli\")\n"
   ]
  },
  {
   "cell_type": "code",
   "execution_count": 124,
   "id": "36b3c499",
   "metadata": {},
   "outputs": [
    {
     "data": {
      "text/plain": [
       "0"
      ]
     },
     "execution_count": 124,
     "metadata": {},
     "output_type": "execute_result"
    }
   ],
   "source": [
    "data.count(\"ABC\")"
   ]
  },
  {
   "cell_type": "code",
   "execution_count": 125,
   "id": "cea4cb41",
   "metadata": {},
   "outputs": [
    {
     "data": {
      "text/plain": [
       "1"
      ]
     },
     "execution_count": 125,
     "metadata": {},
     "output_type": "execute_result"
    }
   ],
   "source": [
    "fruits.count(\"mango\")"
   ]
  },
  {
   "cell_type": "code",
   "execution_count": 126,
   "id": "f82a204d",
   "metadata": {},
   "outputs": [],
   "source": [
    "#dcitionary sample\n",
    "person ={\n",
    "    \"name\":\"aroon\",\n",
    "    \"lastname\":'thapa',\n",
    "    \"city\":\"ktm\",\n",
    "    \"contact\": 9860048741\n",
    "    \n",
    "}"
   ]
  },
  {
   "cell_type": "code",
   "execution_count": 127,
   "id": "d9ce3703",
   "metadata": {},
   "outputs": [
    {
     "data": {
      "text/plain": [
       "{'name': 'aroon', 'lastname': 'thapa', 'city': 'ktm', 'contact': 9860048741}"
      ]
     },
     "execution_count": 127,
     "metadata": {},
     "output_type": "execute_result"
    }
   ],
   "source": [
    "person"
   ]
  },
  {
   "cell_type": "code",
   "execution_count": 128,
   "id": "16afab40",
   "metadata": {},
   "outputs": [
    {
     "data": {
      "text/plain": [
       "'aroon'"
      ]
     },
     "execution_count": 128,
     "metadata": {},
     "output_type": "execute_result"
    }
   ],
   "source": [
    "person[\"name\"]"
   ]
  },
  {
   "cell_type": "code",
   "execution_count": 136,
   "id": "39c45fa4",
   "metadata": {},
   "outputs": [
    {
     "data": {
      "text/plain": [
       "9860048741"
      ]
     },
     "execution_count": 136,
     "metadata": {},
     "output_type": "execute_result"
    }
   ],
   "source": [
    "person [\"contact\"]"
   ]
  },
  {
   "cell_type": "code",
   "execution_count": 146,
   "id": "d84599ef",
   "metadata": {},
   "outputs": [],
   "source": [
    "person[\"petsname\"]={\"dog\":\"howhow\"}"
   ]
  },
  {
   "cell_type": "code",
   "execution_count": 147,
   "id": "296ae841",
   "metadata": {},
   "outputs": [
    {
     "data": {
      "text/plain": [
       "{'name': 'aroon',\n",
       " 'lastname': 'thapa',\n",
       " 'city': 'ktm',\n",
       " 'contact': 9860048741,\n",
       " 'petsname': {'dog': 'howhow'}}"
      ]
     },
     "execution_count": 147,
     "metadata": {},
     "output_type": "execute_result"
    }
   ],
   "source": [
    "person"
   ]
  },
  {
   "cell_type": "code",
   "execution_count": 149,
   "id": "ce951b80",
   "metadata": {},
   "outputs": [
    {
     "data": {
      "text/plain": [
       "True"
      ]
     },
     "execution_count": 149,
     "metadata": {},
     "output_type": "execute_result"
    }
   ],
   "source": [
    "\"name\" in person"
   ]
  },
  {
   "cell_type": "code",
   "execution_count": 150,
   "id": "6c4d47c9",
   "metadata": {},
   "outputs": [
    {
     "data": {
      "text/plain": [
       "5"
      ]
     },
     "execution_count": 150,
     "metadata": {},
     "output_type": "execute_result"
    }
   ],
   "source": [
    "len (person)"
   ]
  },
  {
   "cell_type": "code",
   "execution_count": 156,
   "id": "f372d126",
   "metadata": {},
   "outputs": [
    {
     "data": {
      "text/plain": [
       "'ktm'"
      ]
     },
     "execution_count": 156,
     "metadata": {},
     "output_type": "execute_result"
    }
   ],
   "source": [
    "person.get(\"city\")"
   ]
  },
  {
   "cell_type": "code",
   "execution_count": 158,
   "id": "6bba3e86",
   "metadata": {},
   "outputs": [
    {
     "data": {
      "text/plain": [
       "'dontknow'"
      ]
     },
     "execution_count": 158,
     "metadata": {},
     "output_type": "execute_result"
    }
   ],
   "source": [
    "person.get(\"homwtown\",\"dontknow\")"
   ]
  },
  {
   "cell_type": "code",
   "execution_count": 159,
   "id": "ba611ced",
   "metadata": {},
   "outputs": [
    {
     "data": {
      "text/plain": [
       "dict_items([('name', 'aroon'), ('lastname', 'thapa'), ('city', 'ktm'), ('contact', 9860048741), ('petsname', {'dog': 'howhow'})])"
      ]
     },
     "execution_count": 159,
     "metadata": {},
     "output_type": "execute_result"
    }
   ],
   "source": [
    "person.items()"
   ]
  },
  {
   "cell_type": "code",
   "execution_count": 171,
   "id": "b2a3c35d",
   "metadata": {},
   "outputs": [],
   "source": [
    "person.pop?#to know about the docstring and signature.\n"
   ]
  },
  {
   "cell_type": "code",
   "execution_count": 169,
   "id": "dcc77451",
   "metadata": {},
   "outputs": [
    {
     "data": {
      "text/plain": [
       "'aroon'"
      ]
     },
     "execution_count": 169,
     "metadata": {},
     "output_type": "execute_result"
    }
   ],
   "source": [
    "person.pop( \"name\")"
   ]
  },
  {
   "cell_type": "code",
   "execution_count": 170,
   "id": "51232d10",
   "metadata": {},
   "outputs": [
    {
     "data": {
      "text/plain": [
       "{'lastname': 'thapa',\n",
       " 'city': 'ktm',\n",
       " 'contact': 9860048741,\n",
       " 'petsname': {'dog': 'howhow'}}"
      ]
     },
     "execution_count": 170,
     "metadata": {},
     "output_type": "execute_result"
    }
   ],
   "source": [
    "person"
   ]
  },
  {
   "cell_type": "code",
   "execution_count": null,
   "id": "3b9cc29d",
   "metadata": {},
   "outputs": [],
   "source": []
  }
 ],
 "metadata": {
  "kernelspec": {
   "display_name": "Python 3 (ipykernel)",
   "language": "python",
   "name": "python3"
  },
  "language_info": {
   "codemirror_mode": {
    "name": "ipython",
    "version": 3
   },
   "file_extension": ".py",
   "mimetype": "text/x-python",
   "name": "python",
   "nbconvert_exporter": "python",
   "pygments_lexer": "ipython3",
   "version": "3.9.13"
  }
 },
 "nbformat": 4,
 "nbformat_minor": 5
}
